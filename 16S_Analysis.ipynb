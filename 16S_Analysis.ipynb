{
 "cells": [
  {
   "cell_type": "code",
   "execution_count": null,
   "metadata": {},
   "outputs": [],
   "source": []
  },
  {
   "cell_type": "markdown",
   "metadata": {},
   "source": [
    "# crear una base de datos"
   ]
  },
  {
   "cell_type": "markdown",
   "metadata": {},
   "source": [
    "### 1. crear un directorio llamado 16S"
   ]
  },
  {
   "cell_type": "code",
   "execution_count": null,
   "metadata": {},
   "outputs": [],
   "source": []
  },
  {
   "cell_type": "code",
   "execution_count": null,
   "metadata": {},
   "outputs": [],
   "source": []
  },
  {
   "cell_type": "markdown",
   "metadata": {},
   "source": [
    "### 2. como se llama la base de datos"
   ]
  },
  {
   "cell_type": "code",
   "execution_count": null,
   "metadata": {},
   "outputs": [],
   "source": []
  },
  {
   "cell_type": "code",
   "execution_count": null,
   "metadata": {},
   "outputs": [],
   "source": []
  },
  {
   "cell_type": "markdown",
   "metadata": {},
   "source": [
    "### 3. secuencias para la base de datos\n",
    "\n",
    "#### preprocesamiento de la base de datos\n",
    "\n",
    "#### eliminar microorganismos no cultivables\n",
    "#### `python unculturedRemover.py Bacteria_RDP.fa bacteria_16S.fa`\n",
    "https://raw.githubusercontent.com/Bioinformatica2020/Semana7/master/unculturedRemover.py"
   ]
  },
  {
   "cell_type": "code",
   "execution_count": null,
   "metadata": {},
   "outputs": [],
   "source": []
  },
  {
   "cell_type": "code",
   "execution_count": null,
   "metadata": {},
   "outputs": [],
   "source": []
  },
  {
   "cell_type": "markdown",
   "metadata": {},
   "source": [
    "### 4. tipo de secuencia, <font color = red>prot</font>: para proteinas, <font color = red>nucl</font>: para nucleotidos"
   ]
  },
  {
   "cell_type": "code",
   "execution_count": null,
   "metadata": {},
   "outputs": [],
   "source": []
  },
  {
   "cell_type": "code",
   "execution_count": null,
   "metadata": {},
   "outputs": [],
   "source": []
  },
  {
   "cell_type": "code",
   "execution_count": null,
   "metadata": {},
   "outputs": [],
   "source": [
    "makedb = subprocess.check_output(['makeblastdb','-in',fasta,'-dbtype',tipo,'-parse_seqids',\n",
    "                 '-out', db])\n",
    "print(makedb.decode())"
   ]
  },
  {
   "cell_type": "code",
   "execution_count": null,
   "metadata": {},
   "outputs": [],
   "source": []
  },
  {
   "cell_type": "markdown",
   "metadata": {},
   "source": [
    "# Clasificación taxonómica\n",
    "\n",
    "#### Descarga del archivo\n",
    "\n",
    "https://raw.githubusercontent.com/Bioinformatica2020/Semana7/master/16S_Seq.fasta"
   ]
  },
  {
   "cell_type": "code",
   "execution_count": 1,
   "metadata": {},
   "outputs": [],
   "source": [
    "import random"
   ]
  },
  {
   "cell_type": "markdown",
   "metadata": {},
   "source": [
    "### A. Seleccionar un número determinado de secuencias\n",
    "\n",
    "#### Para el ejercicio en clase menos de 30"
   ]
  },
  {
   "cell_type": "code",
   "execution_count": null,
   "metadata": {},
   "outputs": [],
   "source": [
    "FASTA = open('../descargas/16S_Seq.fasta','r')\n",
    "FASTA = FASTA.read()\n",
    "\n",
    "fas_dict = {}\n",
    "for i, j in enumerate(FASTA.split('>')[1:]):\n",
    "    fas_dict[i] = j\n",
    "print('Número de secuencias:',len(re.findall('>', FASTA)))\n",
    "\n",
    "secs = int(input('Número de secuencias a analizar (ejemplo: 50): '))\n",
    "numero = random.sample(range(1, len(FASTA.split('>')[1:])), secs)\n",
    "seleccionadas = [fas_dict[i] for i in numero]\n",
    "query = '../salidas/'+str(secs)+'_secuencias.fasta'\n",
    "cons = open(query,'w')\n",
    "cons.write('>'+'>'.join(seleccionadas))\n",
    "cons.close()\n",
    "print('Archivo nuevo: ', query)"
   ]
  },
  {
   "cell_type": "code",
   "execution_count": null,
   "metadata": {},
   "outputs": [],
   "source": []
  },
  {
   "cell_type": "markdown",
   "metadata": {},
   "source": [
    "### B. Revisar los archivos dentro de la base de datos 16S"
   ]
  },
  {
   "cell_type": "code",
   "execution_count": null,
   "metadata": {},
   "outputs": [],
   "source": []
  },
  {
   "cell_type": "markdown",
   "metadata": {},
   "source": [
    "### C. Redefinir la base de datos, deacuerdo a los archivos mostrados en la celda anterior"
   ]
  },
  {
   "cell_type": "code",
   "execution_count": null,
   "metadata": {},
   "outputs": [],
   "source": []
  },
  {
   "cell_type": "code",
   "execution_count": null,
   "metadata": {},
   "outputs": [],
   "source": []
  },
  {
   "cell_type": "markdown",
   "metadata": {},
   "source": [
    "### D. Correr blastn"
   ]
  },
  {
   "cell_type": "code",
   "execution_count": null,
   "metadata": {},
   "outputs": [],
   "source": [
    "import subprocess\n",
    "from datetime import datetime"
   ]
  },
  {
   "cell_type": "code",
   "execution_count": null,
   "metadata": {},
   "outputs": [],
   "source": [
    "# https://www.ncbi.nlm.nih.gov/books/NBK279684/\n",
    "xx = datetime.now()\n",
    "subprocess.call([programa,'-db',db1,'-query', query,'-evalue',str(evalue),'-outfmt',\n",
    "                                \"6 qacc sacc qlen slen length qstart qend sstart send score bitscore evalue pident nident mismatch positive stitle\",\n",
    "                                '-max_target_seqs',str(10), '-max_hsps',str(10), '-out', query+'.tab'])\n",
    "\n",
    "tim = datetime.now() - xx\n",
    "print(format(tim).split('.')[0], '(h:m:s)')"
   ]
  },
  {
   "cell_type": "code",
   "execution_count": null,
   "metadata": {},
   "outputs": [],
   "source": []
  },
  {
   "cell_type": "markdown",
   "metadata": {},
   "source": [
    "### E. Explorar los resultados del Blastn"
   ]
  },
  {
   "cell_type": "code",
   "execution_count": 2,
   "metadata": {},
   "outputs": [],
   "source": [
    "header = ('qacc','Entry','qlen','slen','length', 'qstart','qend','sstart','send','score','bitscore','evalue','pident','nident',\n",
    "                              'mismatch','positive','stitle')"
   ]
  },
  {
   "cell_type": "code",
   "execution_count": null,
   "metadata": {},
   "outputs": [],
   "source": []
  },
  {
   "cell_type": "code",
   "execution_count": null,
   "metadata": {},
   "outputs": [],
   "source": []
  },
  {
   "cell_type": "markdown",
   "metadata": {},
   "source": [
    "### F. A partir de la columna `stitle` obtener la clasificación taxonómica\n",
    "#### Crea un DataFrame con esta información y llámalo: `Class_Tax`"
   ]
  },
  {
   "cell_type": "code",
   "execution_count": null,
   "metadata": {},
   "outputs": [],
   "source": []
  },
  {
   "cell_type": "code",
   "execution_count": null,
   "metadata": {},
   "outputs": [],
   "source": []
  },
  {
   "cell_type": "code",
   "execution_count": null,
   "metadata": {},
   "outputs": [],
   "source": []
  },
  {
   "cell_type": "markdown",
   "metadata": {},
   "source": [
    "## G. Visualización interactiva de los resultados  del Blastn"
   ]
  },
  {
   "cell_type": "code",
   "execution_count": 3,
   "metadata": {},
   "outputs": [],
   "source": [
    "import ipywidgets as widgets\n",
    "from ipywidgets import interact\n",
    "import matplotlib.pyplot as plt"
   ]
  },
  {
   "cell_type": "code",
   "execution_count": null,
   "metadata": {},
   "outputs": [],
   "source": [
    "@interact\n",
    "def scatter_plot(x=list(resultado.select_dtypes('number').columns), \n",
    "                 y=list(resultado.select_dtypes('number').columns),\n",
    "                 siz = widgets.SelectionSlider(options=range(101),value=20,description='Point',\n",
    "                                               disabled=False,\n",
    "                              continuous_update=False,orientation='horizontal',readout=True),\n",
    "                 alfa = widgets.SelectionSlider(options=[0.1,0.2,0.3,0.4,0.5,0.6,0.7,0.8, 0.9, 1],\n",
    "                                                value=0.5,description='Alpha',disabled=False,\n",
    "                              continuous_update=False,orientation='horizontal',readout=True),\n",
    "                save = widgets.Checkbox(value=False, description='Save', disabled=False),\n",
    "                xx = widgets.Text(value='Eje X',placeholder='Type something',description='axisX:',\n",
    "    disabled=False),\n",
    "                yy = widgets.Text(value='Eje Y',placeholder='Type something',description='axisY:',\n",
    "    disabled=False)):\n",
    "    plt.subplots(figsize=(5,5))\n",
    "    #fig, ax = plt.subplots(figsize=(4,3))\n",
    "    plt.scatter(resultado[x][resultado['pident'] >= 50], resultado[y][resultado['pident'] >= 50],\n",
    "                s = siz, marker = 'o', c = 'blue', linewidth=0,\n",
    "           edgecolors = 'white',alpha=alfa)\n",
    "    plt.scatter(resultado[x][resultado['pident'] < 50], resultado[y][resultado['pident'] < 50],\n",
    "                s = siz, marker = 'o', c = 'red', linewidth=0,\n",
    "           edgecolors = 'white',alpha=alfa)\n",
    "    plt.ylabel(yy,size=12,fontweight='bold')\n",
    "    plt.xlabel(xx,size=12,fontweight='bold')\n",
    "    plt.gca().spines['top'].set_visible(False)\n",
    "    plt.gca().spines['right'].set_visible(False)\n",
    "    \n",
    "    if save == True:\n",
    "        plt.savefig('imgtesis/x_'+x+'_y_'+y+'.png',dpi = 900, bbox_inches='tight')\n",
    "    if save == False:\n",
    "        pass\n",
    "    plt.show()"
   ]
  },
  {
   "cell_type": "code",
   "execution_count": null,
   "metadata": {},
   "outputs": [],
   "source": []
  },
  {
   "cell_type": "markdown",
   "metadata": {},
   "source": [
    "### H. Selecciona una categoría taxonómica para revisar la frecuencia"
   ]
  },
  {
   "cell_type": "code",
   "execution_count": null,
   "metadata": {},
   "outputs": [],
   "source": [
    "# selecciona un elemento de la taxonomia\n",
    "elemento = 'Species'\n",
    "tx = blast_res[[elemento, 'Entry']].drop_duplicates().groupby([elemento]).Entry.count().reset_index()\n",
    "tx[elemento] = ['<i>'+i+'</i>  ' for i in tx[elemento].tolist()]\n",
    "tx = tx.sort_values(by=\"Entry\", ascending = False)\n",
    "tx"
   ]
  },
  {
   "cell_type": "code",
   "execution_count": null,
   "metadata": {},
   "outputs": [],
   "source": [
    "import plotly.express as px"
   ]
  },
  {
   "cell_type": "code",
   "execution_count": null,
   "metadata": {},
   "outputs": [],
   "source": [
    "fig = px.bar(tx, y=elemento, x=\"Entry\",\n",
    "             orientation=\"h\",width=700, height=400)\n",
    "fig.layout.plot_bgcolor = 'whitesmoke'\n",
    "fig.update_yaxes(title_text='<b>Species</b>')\n",
    "fig.update_xaxes(title_text='<b>Number of Entries (Entry)</b>')\n",
    "fig.show()"
   ]
  },
  {
   "cell_type": "code",
   "execution_count": null,
   "metadata": {},
   "outputs": [],
   "source": []
  },
  {
   "cell_type": "markdown",
   "metadata": {},
   "source": [
    "## I. Visualización global de la clasificación taxonómica"
   ]
  },
  {
   "cell_type": "code",
   "execution_count": null,
   "metadata": {},
   "outputs": [],
   "source": [
    "niveles = {'1':[0,7], '2':[0,1,7], '3':[0,1,2,7], '4':[0,1,2,3,7], '5':[0,1,2,3,4,7],\n",
    "           '6':[0,1,2,3,4,5,7], '7':[0,1,2,3,4,5,6,7]}\n",
    "colores = ['BrBG','PiYG','PRGn','PuOr','RdBu','RdGy','RdYlBu','RdYlGn','Spectral','Blues','BuGn','BuPu',\n",
    "           'GnBu','Greens','Greys','Oranges','OrRd','PuBu','PuBuGn','PuRd','Purples','RdPu','Reds',\n",
    "           'YlGn','YlGnBu','YlOrBr','YlOrRd']\n",
    "colores.sort()"
   ]
  },
  {
   "cell_type": "code",
   "execution_count": null,
   "metadata": {},
   "outputs": [],
   "source": [
    "import ipywidgets as widgets\n",
    "from ipywidgets import interact, interactive, fixed, interact_manual, Button, HBox, VBox, IntSlider, Label, IntRangeSlider, Layout\n",
    "import datetime\n",
    "import plotly.io"
   ]
  },
  {
   "cell_type": "code",
   "execution_count": null,
   "metadata": {},
   "outputs": [],
   "source": [
    "@interact\n",
    "def scatter_plot(Level = widgets.SelectionSlider(options=['1', '2', '3', '4', '5', '6', '7'],\n",
    "                                                 value='6',description='Level',disabled=False,\n",
    "                              continuous_update=False,orientation='horizontal',readout=True),\n",
    "                 colors = widgets.Dropdown(options=colores,value='Oranges',description='Colors:',disabled=False,\n",
    "                        layout=Layout(width='30%', height='30px')),\n",
    "                 barescala = widgets.SelectionSlider(options=range(1,51),\n",
    "                                                 value=5,description='Bar scale',disabled=False,\n",
    "                              continuous_update=False,orientation='horizontal',readout=True),\n",
    "                salvar = widgets.ToggleButton(value=False,description='Save html',disabled=False,button_style='',\n",
    "                                tooltip='Description')):\n",
    "    nivel = niveles[Level]\n",
    "    df = Class_Tax.iloc[:,nivel]\n",
    "    print(df.columns.tolist()[0:len(nivel)-1])\n",
    "    fig = px.sunburst(Class_Tax.iloc[:,niveles[Level]], path=Class_Tax.iloc[:,niveles[Level]].columns.tolist()[0:len(niveles[Level])-1],\n",
    "                      #title=\"Taxonomy Classification\",\n",
    "                      color='num', color_continuous_scale = colors, values='num')\n",
    "    fig.update_layout(#uniformtext=dict(minsize=50),\n",
    "        margin = dict(t=0, l=0, r=0, b=0),\n",
    "        coloraxis_colorbar=dict(\n",
    "    title=\"Abundance\",\n",
    "    thicknessmode=\"pixels\",\n",
    "    thickness=30,\n",
    "    lenmode=\"pixels\",\n",
    "    #len=400,\n",
    "    yanchor=\"bottom\",\n",
    "    xanchor=\"center\",\n",
    "    y=0,\n",
    "    x=0.85,\n",
    "    ticks=\"outside\",\n",
    "    dtick=barescala))\n",
    "    fig.update_layout()\n",
    "    fig.show()\n",
    "    if salvar == True:\n",
    "        plotly.offline.plot(fig, filename = archivo_salida.split('.')[0]+'_Tax_Class_'+datetime.datetime.now().strftime('%d.%B.%Y_%I-%M%p')+'.html', auto_open=False)"
   ]
  },
  {
   "cell_type": "code",
   "execution_count": null,
   "metadata": {},
   "outputs": [],
   "source": []
  },
  {
   "cell_type": "code",
   "execution_count": null,
   "metadata": {},
   "outputs": [],
   "source": []
  },
  {
   "cell_type": "markdown",
   "metadata": {},
   "source": [
    "## Abrir otra tabla, con otra clasificacion\n",
    "\n",
    "https://raw.githubusercontent.com/Bioinformatica2020/Semana7/master/Blastn_results.tab"
   ]
  },
  {
   "cell_type": "code",
   "execution_count": null,
   "metadata": {},
   "outputs": [],
   "source": []
  },
  {
   "cell_type": "code",
   "execution_count": null,
   "metadata": {},
   "outputs": [],
   "source": []
  },
  {
   "cell_type": "code",
   "execution_count": null,
   "metadata": {},
   "outputs": [],
   "source": []
  },
  {
   "cell_type": "code",
   "execution_count": null,
   "metadata": {},
   "outputs": [],
   "source": []
  },
  {
   "cell_type": "code",
   "execution_count": null,
   "metadata": {},
   "outputs": [],
   "source": []
  },
  {
   "cell_type": "code",
   "execution_count": null,
   "metadata": {},
   "outputs": [],
   "source": []
  },
  {
   "cell_type": "code",
   "execution_count": null,
   "metadata": {},
   "outputs": [],
   "source": []
  }
 ],
 "metadata": {
  "kernelspec": {
   "display_name": "Python 3",
   "language": "python",
   "name": "python3"
  },
  "language_info": {
   "codemirror_mode": {
    "name": "ipython",
    "version": 3
   },
   "file_extension": ".py",
   "mimetype": "text/x-python",
   "name": "python",
   "nbconvert_exporter": "python",
   "pygments_lexer": "ipython3",
   "version": "3.7.5"
  }
 },
 "nbformat": 4,
 "nbformat_minor": 4
}
